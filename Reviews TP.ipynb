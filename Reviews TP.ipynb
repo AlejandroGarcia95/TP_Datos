{
 "cells": [
  {
   "cell_type": "code",
   "execution_count": null,
   "metadata": {
    "collapsed": false
   },
   "outputs": [],
   "source": [
    "# Lectura del archivo .csv de training\n",
    "import pyspark_csv as pycsv\n",
    "sc.addPyFile('pyspark_csv.py')\n",
    "plaintext_rdd = sc.textFile('muestra100.csv')\n",
    "dataframe = pycsv.csvToDataFrame(sqlCtx, plaintext_rdd, parseDate=False)\n",
    "\n",
    "\n",
    "data = dataframe.rdd\n",
    "data\n"
   ]
  },
  {
   "cell_type": "code",
   "execution_count": null,
   "metadata": {
    "collapsed": false,
    "scrolled": true
   },
   "outputs": [],
   "source": [
    "from compresores import *\n",
    "\n",
    "def parsearReview(x):\n",
    "    parser = SymbolParser('letra')\n",
    "    texto = x[0]\n",
    "    tabla = x[1]\n",
    "    parser.parsearTexto(texto, tabla)\n",
    "    return tabla\n",
    "\n",
    "def mergeSymbolTables(tablaA, tablaB):\n",
    "    # Copio A en C\n",
    "    tablaC = SymbolTable()\n",
    "    for simb in tablaA.verSimbolos():\n",
    "        freq = tablaA.verFrecuencia(simb)\n",
    "        while (freq > 1):\n",
    "            tablaC.aumentarFrecuencia(simb)\n",
    "            freq -= 1  \n",
    "    # Veo ahora los simbolos en B\n",
    "    for simb in tablaB.verSimbolos():\n",
    "        freq = tablaB.verFrecuencia(simb)\n",
    "        while (freq > 1):\n",
    "            tablaC.aumentarFrecuencia(simb)\n",
    "            freq -= 1    \n",
    "    return tablaC\n",
    "\n",
    "# cmpr es una lista de compresores estáticos, donde el compresor i\n",
    "# es encargado de comprimir reviews de puntaje i+1\n",
    "cmpr = []\n",
    "for i in range(0,5):\n",
    "    cmpr.append(CompresorAritmetico('letra'))  \n",
    "        \n",
    "# Del set de datos, obtengo para compresor i las reviews de\n",
    "# puntaje i+1 y las parseo para actualizar las tablas de símbolos\n",
    "for i in range(0,5):\n",
    "    reviews = data.filter(lambda x: x.Prediction == (i+1)).map(lambda x: x.Text)\n",
    "    reviews = reviews.map(lambda x: (x, SymbolTable())).map(parsearReview)\n",
    "    # Ahora en reviews hay tablas de símbolos que representan\n",
    "    # las reviews originales. ¡Las mergeamos!\n",
    "    tablaFinal = reviews.reduce(mergeSymbolTables)\n",
    "    cmpr[i].asignarSymbolTable(tablaFinal)\n",
    "\n",
    "# Pruebo mostrando los simbolos de cada compresor\n",
    "for i in range(0,5):\n",
    "    print 'Símbolos del conversor', i, ':', cmpr[i].getSymbolTable().verSimbolos()\n",
    "    print 'Frecuencia de la a:', cmpr[i].getSymbolTable().verFrecuencia('a')\n"
   ]
  },
  {
   "cell_type": "code",
   "execution_count": null,
   "metadata": {
    "collapsed": false
   },
   "outputs": [],
   "source": [
    "# DE ACA PARA ABAJO ZONA DE TESTS\n",
    "# NO DAR MUCHA BOLA\n",
    "\n",
    "\n",
    "\n",
    "print lasReviews.takeOrdered(1)[0][1]"
   ]
  },
  {
   "cell_type": "code",
   "execution_count": null,
   "metadata": {
    "collapsed": false
   },
   "outputs": [],
   "source": [
    "q = lasReviews.map(lambda x: (x[0],x[1].count(\"!!! \"))).reduceByKey(lambda x, y: x+y)\n",
    "print q.collect()"
   ]
  },
  {
   "cell_type": "code",
   "execution_count": null,
   "metadata": {
    "collapsed": false
   },
   "outputs": [],
   "source": [
    "textos = lasReviews.map(lambda x: (x[1], -1)).reduceByKey(lambda x, y: x+y).map(lambda x: (x[1], 1)).reduceByKey(lambda x, y: x+y)\n",
    "print textos.takeOrdered(25)"
   ]
  },
  {
   "cell_type": "code",
   "execution_count": null,
   "metadata": {
    "collapsed": false
   },
   "outputs": [],
   "source": [
    "from enchant.checker import SpellChecker\n",
    "chkr = SpellChecker(\"en_US\")\n",
    "\n",
    "reviewsAlAzar = textos.takeSample(False, 5)\n",
    "\n",
    "\n",
    "for r in range(0,5):\n",
    "    print reviewsAlAzar[r]\n",
    "    chkr.set_text(reviewsAlAzar[r])\n",
    "    for err in chkr:\n",
    "        print \"ERROR! Wrong word:\", err.word"
   ]
  },
  {
   "cell_type": "code",
   "execution_count": null,
   "metadata": {
    "collapsed": true
   },
   "outputs": [],
   "source": []
  }
 ],
 "metadata": {
  "kernelspec": {
   "display_name": "pySpark",
   "language": "python",
   "name": "pyspark"
  },
  "language_info": {
   "codemirror_mode": {
    "name": "ipython",
    "version": 2
   },
   "file_extension": ".py",
   "mimetype": "text/x-python",
   "name": "python",
   "nbconvert_exporter": "python",
   "pygments_lexer": "ipython2",
   "version": "2.7.3"
  }
 },
 "nbformat": 4,
 "nbformat_minor": 1
}
