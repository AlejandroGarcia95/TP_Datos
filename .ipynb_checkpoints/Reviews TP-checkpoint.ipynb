{
 "cells": [
  {
   "cell_type": "code",
   "execution_count": 1,
   "metadata": {
    "collapsed": false
   },
   "outputs": [
    {
     "data": {
      "text/plain": [
       "MapPartitionsRDD[9] at javaToPython at NativeMethodAccessorImpl.java:-2"
      ]
     },
     "execution_count": 1,
     "metadata": {},
     "output_type": "execute_result"
    }
   ],
   "source": [
    "# Lectura del archivo .csv de training\n",
    "import pyspark_csv as pycsv\n",
    "sc.addPyFile('pyspark_csv.py')\n",
    "plaintext_rdd = sc.textFile('muestra100.csv')\n",
    "dataframe = pycsv.csvToDataFrame(sqlCtx, plaintext_rdd, parseDate=False)\n",
    "\n",
    "\n",
    "data = dataframe.rdd\n",
    "data\n"
   ]
  },
  {
   "cell_type": "code",
   "execution_count": 3,
   "metadata": {
    "collapsed": false
   },
   "outputs": [
    {
     "name": "stdout",
     "output_type": "stream",
     "text": [
      "Símbolos del conversor 0 : [u'!', u' ', u'\"', u'$', u\"'\", u'-', u',', u'/', u'.', u'3', u'2', u'5', u'8', u'<', u'?', u'>', u'E', u'D', u'I', u'H', u'M', u'L', u'N', u'Q', u'S', u'T', u'a', u'c', u'b', u'e', u'd', u'g', u'f', u'i', u'h', u'k', u'j', u'm', u'l', u'o', u'n', u'q', u'p', u's', u'r', u'u', u't', u'w', u'v', u'y', u'x', u'z']\n",
      "Frecuencia de la a: 140\n",
      "Símbolos del conversor 1 : [u' ', u'\"', u'%', u\"'\", u'&', u')', u'(', u'-', u',', u'/', u'.', u'1', u'0', u'3', u'2', u'4', u'7', u'9', u'8', u';', u':', u'<', u'?', u'>', u'A', u'C', u'B', u'E', u'D', u'G', u'F', u'I', u'H', u'K', u'J', u'M', u'L', u'O', u'N', u'Q', u'P', u'S', u'R', u'U', u'T', u'W', u'Y', u'a', u'c', u'b', u'e', u'd', u'g', u'f', u'i', u'h', u'k', u'j', u'm', u'l', u'o', u'n', u'q', u'p', u's', u'r', u'u', u't', u'w', u'v', u'y', u'x']\n",
      "Frecuencia de la a: 276\n",
      "Símbolos del conversor 2 : [u' ', u'\"', u'%', u\"'\", u')', u'(', u'-', u',', u'/', u'.', u'1', u'0', u'3', u'2', u'5', u'7', u'6', u'9', u'8', u':', u'=', u'<', u'>', u'A', u'C', u'B', u'E', u'D', u'G', u'F', u'I', u'H', u'K', u'J', u'M', u'L', u'O', u'N', u'Q', u'P', u'S', u'R', u'U', u'T', u'W', u'V', u'Y', u'a', u'c', u'b', u'e', u'd', u'g', u'f', u'i', u'h', u'k', u'j', u'm', u'l', u'o', u'n', u'q', u'p', u's', u'r', u'u', u't', u'w', u'v', u'y', u'x', u'z']\n",
      "Frecuencia de la a: 249\n",
      "Símbolos del conversor 3 : [u'!', u' ', u'\"', u'%', u'$', u\"'\", u'&', u')', u'(', u'+', u'-', u',', u'/', u'.', u'1', u'0', u'3', u'2', u'5', u'4', u'7', u'6', u'9', u'8', u';', u':', u'<', u'?', u'>', u'A', u'C', u'B', u'E', u'D', u'G', u'F', u'I', u'H', u'K', u'M', u'L', u'O', u'N', u'P', u'S', u'R', u'U', u'T', u'W', u'V', u'Y', u'a', u'c', u'b', u'e', u'd', u'g', u'f', u'i', u'h', u'k', u'j', u'm', u'l', u'o', u'n', u'q', u'p', u's', u'r', u'u', u't', u'w', u'v', u'y', u'x', u'z']\n",
      "Frecuencia de la a: 596\n",
      "Símbolos del conversor 4 : [u'!', u' ', u'#', u'\"', u'%', u'$', u\"'\", u'&', u')', u'(', u'+', u'*', u'-', u',', u'/', u'.', u'1', u'0', u'3', u'2', u'5', u'4', u'7', u'6', u'9', u'8', u';', u':', u'=', u'<', u'>', u'A', u'C', u'B', u'E', u'D', u'G', u'F', u'I', u'H', u'K', u'J', u'M', u'L', u'O', u'N', u'Q', u'P', u'S', u'R', u'U', u'T', u'W', u'V', u'Y', u'[', u']', u'a', u'c', u'b', u'e', u'd', u'g', u'f', u'i', u'h', u'k', u'j', u'm', u'l', u'o', u'n', u'q', u'p', u's', u'r', u'u', u't', u'w', u'v', u'y', u'x', u'z', u'~']\n",
      "Frecuencia de la a: 1460\n"
     ]
    }
   ],
   "source": [
    "from compresores import *\n",
    "\n",
    "def parsearReview(x):\n",
    "    parser = SymbolParser('letra')\n",
    "    texto = x[0]\n",
    "    tabla = x[1]\n",
    "    parser.parsearTexto(texto, tabla)\n",
    "    return tabla\n",
    "\n",
    "def mergeSymbolTables(tablaA, tablaB):\n",
    "    # Copio A en C\n",
    "    tablaC = SymbolTable()\n",
    "    for simb in tablaA.verSimbolos():\n",
    "        freq = tablaA.verFrecuencia(simb)\n",
    "        while (freq > 1):\n",
    "            tablaC.aumentarFrecuencia(simb)\n",
    "            freq -= 1  \n",
    "    # Veo ahora los simbolos en B\n",
    "    for simb in tablaB.verSimbolos():\n",
    "        freq = tablaB.verFrecuencia(simb)\n",
    "        while (freq > 1):\n",
    "            tablaC.aumentarFrecuencia(simb)\n",
    "            freq -= 1    \n",
    "    return tablaC\n",
    "\n",
    "# cmpr es una lista de compresores estáticos, donde el compresor i\n",
    "# es encargado de comprimir reviews de puntaje i+1\n",
    "cmpr = []\n",
    "for i in range(0,5):\n",
    "    cmpr.append(CompresorAritmetico('letra'))  \n",
    "        \n",
    "# Del set de datos, obtengo para compresor i las reviews de\n",
    "# puntaje i+1 y las parseo para actualizar las tablas de símbolos\n",
    "for i in range(0,5):\n",
    "    reviews = data.filter(lambda x: x.Prediction == (i+1)).map(lambda x: x.Text)\n",
    "    reviews = reviews.map(lambda x: (x, SymbolTable())).map(parsearReview)\n",
    "    # Ahora en reviews hay tablas de símbolos que representan\n",
    "    # las reviews originales. ¡Las mergeamos!\n",
    "    tablaFinal = reviews.reduce(mergeSymbolTables)\n",
    "    cmpr[i].asignarSymbolTable(tablaFinal)\n",
    "\n",
    "# Pruebo mostrando los simbolos de cada compresor\n",
    "for i in range(0,5):\n",
    "    print 'Símbolos del conversor', i, ':', cmpr[i].getSymbolTable().verSimbolos()\n",
    "    print 'Frecuencia de la a:', cmpr[i].getSymbolTable().verFrecuencia('a')\n"
   ]
  },
  {
   "cell_type": "code",
   "execution_count": null,
   "metadata": {
    "collapsed": false
   },
   "outputs": [],
   "source": [
    "print lasReviews.takeOrdered(1)[0][1]"
   ]
  },
  {
   "cell_type": "code",
   "execution_count": 9,
   "metadata": {
    "collapsed": false
   },
   "outputs": [
    {
     "name": "stdout",
     "output_type": "stream",
     "text": [
      "[(1, 1319), (2, 228), (3, 227), (4, 460), (5, 6580)]\n"
     ]
    }
   ],
   "source": [
    "q = lasReviews.map(lambda x: (x[0],x[1].count(\"!!! \"))).reduceByKey(lambda x, y: x+y)\n",
    "print q.collect()"
   ]
  },
  {
   "cell_type": "code",
   "execution_count": 18,
   "metadata": {
    "collapsed": false
   },
   "outputs": [
    {
     "name": "stdout",
     "output_type": "stream",
     "text": [
      "[(-161, 1), (-98, 1), (-40, 1), (-35, 1), (-34, 1), (-33, 1), (-31, 1), (-26, 1), (-25, 1), (-24, 7), (-23, 15), (-22, 26), (-21, 38), (-20, 37), (-19, 41), (-18, 27), (-17, 14), (-16, 18), (-15, 18), (-14, 58), (-13, 133), (-12, 200), (-11, 340), (-10, 502), (-9, 764)]\n"
     ]
    }
   ],
   "source": [
    "textos = lasReviews.map(lambda x: (x[1], -1)).reduceByKey(lambda x, y: x+y).map(lambda x: (x[1], 1)).reduceByKey(lambda x, y: x+y)\n",
    "print textos.takeOrdered(25)"
   ]
  },
  {
   "cell_type": "code",
   "execution_count": 4,
   "metadata": {
    "collapsed": false
   },
   "outputs": [
    {
     "name": "stdout",
     "output_type": "stream",
     "text": [
      "['Y', 'X', 'Z']\n",
      "Y : 3\n",
      "X : 2\n",
      "Z : 2\n",
      "['Y', 'Z', 'W']\n",
      "Y : 3\n",
      "Z : 3\n",
      "W : 2\n",
      "['Y', 'X', 'Z', 'W']\n",
      "Y : 5\n",
      "X : 2\n",
      "Z : 4\n",
      "W : 2\n"
     ]
    }
   ],
   "source": [
    "from compresores import *\n",
    "\n",
    "def mergeSymbolTables(tablaA, tablaB):\n",
    "    # Copio A en C\n",
    "    tablaC = SymbolTable()\n",
    "    for simb in tablaA.verSimbolos():\n",
    "        freq = tablaA.verFrecuencia(simb)\n",
    "        while (freq > 1):\n",
    "            tablaC.aumentarFrecuencia(simb)\n",
    "            freq -= 1  \n",
    "    # Veo ahora los simbolos en B\n",
    "    for simb in tablaB.verSimbolos():\n",
    "        freq = tablaB.verFrecuencia(simb)\n",
    "        while (freq > 1):\n",
    "            tablaC.aumentarFrecuencia(simb)\n",
    "            freq -= 1    \n",
    "    return tablaC\n",
    "\n",
    "t1 = SymbolTable()\n",
    "t2 = SymbolTable()\n",
    "prsr = SymbolParser('letra')\n",
    "prsr.parsearTexto('XYZY', t1)\n",
    "prsr.parsearTexto('YYZZW', t2)\n",
    "\n",
    "\n",
    "print t1.verSimbolos()\n",
    "for s in t1.verSimbolos():\n",
    "    print s, ':', t1.verFrecuencia(s)\n",
    "\n",
    "print t2.verSimbolos()\n",
    "for s in t2.verSimbolos():\n",
    "    print s, ':', t2.verFrecuencia(s)\n",
    "\n",
    "t3 = mergeSymbolTables(t1, t2)\n",
    "\n",
    "print t3.verSimbolos()\n",
    "for s in t3.verSimbolos():\n",
    "    print s, ':', t3.verFrecuencia(s)"
   ]
  },
  {
   "cell_type": "code",
   "execution_count": 44,
   "metadata": {
    "collapsed": false
   },
   "outputs": [
    {
     "name": "stdout",
     "output_type": "stream",
     "text": [
      "Processing from fluid to dry has little impact on the nutritional value of nonfat milk, contrary to the last reviewer. It contains ALL the protein, vitamins, and minerals found in fresh fluid, nonfat milk. This is a major ADVANTAGE, not con, of this product. My background is nutrition but you can look it up: about 300 mg per serving calcium is an excellent source, and a great way to boost protein & calcium without the added fat. The extra effort in mixing is well-worth the product's benefits. I use it to make my own plain, nonfat yogurt--works great.\n",
      "These chips are tasty and meet the need I sometimes have for a \"treat\".  Usually potato chips are off limits due to fat and salt.<br /><br />These fill the need for that \"treat\".  The individual packages help limit the amount I eat and are very good.\n",
      "ERROR! Wrong word: br\n",
      "ERROR! Wrong word: br\n",
      "From the first sip, I knew I did not like this drink. It was overly sweet, the aftertaste lasted way too long and the small bits of passion fruit and/or aloe were slimy. I thought this would be similar to Kombucha tea with it's bits of the cultured mushroom at the bottom of the drink. My husband liked the Chantea, but he also likes the Odwalla Super Food drink which I find gross and slimy. I gave this 2 stars only because he liked it. This is not a product I will be buying in the future.\n",
      "ERROR! Wrong word: Kombucha\n",
      "ERROR! Wrong word: Chantea\n",
      "ERROR! Wrong word: Odwalla\n",
      "This was my third time ordering this product.  I really enjoyed the first 2 cases of the cookies last year, but this batch was not as flavorful and had a dryer, harder texture.  At first, I thought my memory of how good they were was just faulty, but my daughter told me she felt the others had been much better, too.  I contacted Pamela's Products about the problem, and after some discussion, they sent me replacement cookies.  These cookies made me fall in love with this product all over again - they had an enjoyable texture and those lovely little taste treats of crystallized ginger pieces that leave the mouth tingling for awhile after the cookie is gone.  I am glad I persevered, as these are exceptional for \"store-bought\" cookies!\n",
      "I started out with Walter's Wasabi Peas from my local grocery, then I also found this particular brand locally in Walmart and I really like these. The previous reviewer may have gotten a stale batch, I don't know, but small variations in production will certainly affect the product a lot. I like my Wasabi Peas to start out sort of sweet, tasty and crunchy, then get hit with just the right amount of hot spiciness after a moment. I like the size and kick of these best out of the brands I've tried. I've also tried the ones made by Good Sense and they have a little less fat which I think makes them taste hotter and slightly crunchier, but might make some people happier for that reason. Hapi is definitely my own favorite so far.\n",
      "ERROR! Wrong word: Wasabi\n",
      "ERROR! Wrong word: Walmart\n",
      "ERROR! Wrong word: Wasabi\n",
      "ERROR! Wrong word: Hapi\n"
     ]
    }
   ],
   "source": [
    "from enchant.checker import SpellChecker\n",
    "chkr = SpellChecker(\"en_US\")\n",
    "\n",
    "reviewsAlAzar = textos.takeSample(False, 5)\n",
    "\n",
    "\n",
    "for r in range(0,5):\n",
    "    print reviewsAlAzar[r]\n",
    "    chkr.set_text(reviewsAlAzar[r])\n",
    "    for err in chkr:\n",
    "        print \"ERROR! Wrong word:\", err.word"
   ]
  },
  {
   "cell_type": "code",
   "execution_count": 39,
   "metadata": {
    "collapsed": false
   },
   "outputs": [
    {
     "name": "stdout",
     "output_type": "stream",
     "text": [
      "[u'I have celiac disease and these are Gluten Free.  I made a veggie mix spring roll and they worked great.  They rolled well and held their shape.  I would purchase again.']\n"
     ]
    }
   ],
   "source": [
    "unaReviewAlAzar = textos.takeSample(False, 1)\n",
    "print unaReviewAlAzar[0]"
   ]
  },
  {
   "cell_type": "code",
   "execution_count": 40,
   "metadata": {
    "collapsed": false
   },
   "outputs": [
    {
     "name": "stdout",
     "output_type": "stream",
     "text": [
      "I have celiac disease and these are Gluten Free.  I made a veggie mix spring roll and they worked great.  They rolled well and held their shape.  I would purchase again.\n"
     ]
    }
   ],
   "source": []
  },
  {
   "cell_type": "code",
   "execution_count": null,
   "metadata": {
    "collapsed": true
   },
   "outputs": [],
   "source": []
  }
 ],
 "metadata": {
  "kernelspec": {
   "display_name": "pySpark",
   "language": "python",
   "name": "pyspark"
  },
  "language_info": {
   "codemirror_mode": {
    "name": "ipython",
    "version": 2
   },
   "file_extension": ".py",
   "mimetype": "text/x-python",
   "name": "python",
   "nbconvert_exporter": "python",
   "pygments_lexer": "ipython2",
   "version": "2.7.3"
  }
 },
 "nbformat": 4,
 "nbformat_minor": 1
}
